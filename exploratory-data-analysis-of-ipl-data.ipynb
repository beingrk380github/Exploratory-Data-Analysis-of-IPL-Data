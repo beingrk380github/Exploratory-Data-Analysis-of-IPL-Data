{
 "cells": [
  {
   "cell_type": "markdown",
   "metadata": {
    "_cell_guid": "14a88b4d-1ef8-e42c-4e5f-2d7a7bd626b9",
    "_uuid": "77612e35a2e9dbef3a26f1205c66aa7526a316e9"
   },
   "source": [
    "Exploratory data analysis of IPL data\n",
    "--------------------------------------------------\n",
    " # BY : RAMBABU KUMAR"
   ]
  },
  {
   "cell_type": "markdown",
   "metadata": {
    "_cell_guid": "038bd44a-f03d-5291-5e94-7442aad6d6b2",
    "_uuid": "c3a5ce2ca561f7d0ea8004c7a777fe6e098a16d2"
   },
   "source": [
    "Being a ardent cricket fan and a data science enthusiast this dataset is virtual gold! Been tinkering with this dataset for 2 days now, found some really cool insights."
   ]
  },
  {
   "cell_type": "code",
   "execution_count": null,
   "metadata": {
    "_cell_guid": "67aaf48a-53f1-223d-91bd-7ca937dcd733",
    "_execution_state": "idle",
    "_uuid": "fd4d4748b9f0c0e912b6a9c4bfdfc8a8b558f881",
    "trusted": true,
    "vscode": {
     "languageId": "r"
    }
   },
   "outputs": [],
   "source": [
    "# This R environment comes with all of CRAN preinstalled, as well as many other helpful packages\n",
    "# The environment is defined by the kaggle/rstats docker image: https://github.com/kaggle/docker-rstats\n",
    "# For example, here's several helpful packages to load in \n",
    "\n",
    "library(ggplot2) # Data visualization\n",
    "library(readr) # CSV file I/O, e.g. the read_csv function\n",
    "#library(plyr)\n",
    "library(dplyr)\n",
    "library(gridExtra)\n",
    "library(treemap)\n",
    "library(RColorBrewer)\n",
    "library(tidyr)\n",
    "library(radarchart)\n",
    "# Input data files are available in the \"../input/\" directory.\n",
    "# For example, running this (by clicking run or pressing Shift+Enter) will list the files in the input directory\n",
    "\n",
    "system(\"ls ../input\")\n",
    "deliveries<-read.csv(\"../input//ipl//deliveries.csv\")\n",
    "matches<-read.csv(\"../input/ipl/matches.csv\")\n",
    "matches<-matches[matches$result==\"normal\",]\n",
    "# Any results you write to the current directory are saved as output."
   ]
  },
  {
   "cell_type": "markdown",
   "metadata": {
    "_cell_guid": "56a5aca8-c174-648f-683e-4b6d6873f6cc",
    "_uuid": "06205a038c06b60c964857b967f9afec4197ca41"
   },
   "source": [
    "Cricket is a simple game you win or you lose but there is a lot of grey area as well. It is a battle of nerves as much as it is test of skill. Lot of games in IPL go down to the wire, let us see which teams have been able to withstand pressure and win the close games!\n",
    "\n",
    "\n",
    "**Closeness of the matches when the team batting first wins**\n",
    "-------------------------------------------------------------"
   ]
  },
  {
   "cell_type": "code",
   "execution_count": null,
   "metadata": {
    "_cell_guid": "57b44c14-6cc2-c7dd-9a34-1f9bb0acc038",
    "_execution_state": "idle",
    "_uuid": "e8dbe2acec68be060411a9ca20c33f80da4c041e",
    "trusted": true,
    "vscode": {
     "languageId": "r"
    }
   },
   "outputs": [],
   "source": [
    "matches[which(as.character(matches$team2)==as.character(matches$winner)),\"loser\"]<- matches[which(as.character(matches$team2)==as.character(matches$winner)),\"team1\"]\n",
    "matches[which(as.character(matches$team1)==as.character(matches$winner)),\"loser\"]<- matches[which(as.character(matches$team1)==as.character(matches$winner)),\"team2\"]\n",
    "\n",
    "\n",
    "matches1<-matches[matches$win_by_runs!=0,]\n",
    "closeness<-function(x,y = \"gold\" ){\n",
    "  data1<-matches1[matches1$winner==x|matches1$loser==x,]\n",
    "  data1[data1$loser==x,\"win_by_runs\"]<- -data1[data1$loser==x,\"win_by_runs\"]\n",
    "  ggplot(data1,aes(1:nrow(data1),win_by_runs))+ geom_area(fill=y)+ggtitle(x)+\n",
    "    ylab(\"Runs\")+ xlab(\"Matches\")+ geom_ribbon(aes(ymin=-5, ymax=5),fill=\"red\",alpha=0.4) +geom_ribbon(aes(ymin=-15, ymax=15),fill=\"red\",alpha=0.1) +\n",
    "    guides(fill=FALSE)+scale_alpha(guide = 'none')+coord_cartesian(ylim = c(-100, 100)) \n",
    "}\n",
    "a<-closeness(\"Chennai Super Kings\")\n",
    "b<-closeness(\"Kolkata Knight Riders\",\"purple\")\n",
    "c<-closeness(\"Sunrisers Hyderabad\",\"orange\")\n",
    "d<-closeness(\"Mumbai Indians\",\"blue2\")\n",
    "e<-closeness(\"Royal Challengers Bangalore\",\"red3\")\n",
    "f<-closeness(\"Delhi Daredevils\",\"firebrick3\")\n",
    "g<-closeness(\"Rajasthan Royals\",\"blueviolet\")\n",
    "h<-closeness(\"Kings XI Punjab\",\"salmon\")\n",
    "grid.arrange(a,b,c,e,d,f,g,h,ncol=2)"
   ]
  },
  {
   "cell_type": "markdown",
   "metadata": {
    "_cell_guid": "30153ecf-86e6-2454-82e1-f5c8a22c8cbd",
    "_uuid": "02f16d878287ad6ad501345ff161c84b7e0ffe32"
   },
   "source": [
    "\n",
    "\n",
    "Number of matches played in different cities\n",
    "--------------------------------------------\n"
   ]
  },
  {
   "cell_type": "code",
   "execution_count": null,
   "metadata": {
    "_cell_guid": "80f27442-8c6f-86ba-8729-187a8951b2ab",
    "_execution_state": "idle",
    "_uuid": "f6af0a267fde9a16d448600b2a12085851b4f482",
    "trusted": true,
    "vscode": {
     "languageId": "r"
    }
   },
   "outputs": [],
   "source": [
    "\n",
    "ggplot(matches[which(!is.na(matches$city)),],aes(city,fill= city,rm.na=T)) +geom_bar() +\n",
    "theme(axis.text.x = element_text(angle = 90, hjust = 1))+ \n",
    "ylab(\"Number of Matches Played\") +\n",
    "guides(fill=FALSE)"
   ]
  },
  {
   "cell_type": "markdown",
   "metadata": {
    "_cell_guid": "8a57829e-a249-c569-7d76-88ddcf768999",
    "_uuid": "a9be80b4f69ed8ef9f81a917d614c9f5263ff7d5"
   },
   "source": [
    "Number of matches played in different stadiums\n",
    "----------------------------------------------"
   ]
  },
  {
   "cell_type": "code",
   "execution_count": null,
   "metadata": {
    "_cell_guid": "dda3a31f-5790-423f-416e-e3f566811a79",
    "_execution_state": "idle",
    "_uuid": "e6fae72d6dd8bb8b67b4047392e8ca076b0c2bf8",
    "trusted": true,
    "vscode": {
     "languageId": "r"
    }
   },
   "outputs": [],
   "source": [
    "\n",
    "ggplot(matches,aes(venue, rm.na=T)) +geom_bar(fill=\"#0072B2\") +\n",
    "theme(axis.text.x = element_text(angle = 90, hjust = 1))+ \n",
    "ylab(\"Number of Matches Played\") "
   ]
  },
  {
   "cell_type": "markdown",
   "metadata": {
    "_cell_guid": "96b137fc-fa27-5a75-f9aa-1ec28b0045e2",
    "_uuid": "7118655be39e4c5a51b1c4aee3be508be89c26b0"
   },
   "source": [
    "Is winning the toss really an advantage?\n",
    "----------------------------------------"
   ]
  },
  {
   "cell_type": "code",
   "execution_count": null,
   "metadata": {
    "_cell_guid": "30623ef7-04a4-f004-88d5-2087a3f48247",
    "_execution_state": "idle",
    "_uuid": "03ad2b729b227d559e905bb5058a7005d07c41f5",
    "trusted": true,
    "vscode": {
     "languageId": "r"
    }
   },
   "outputs": [],
   "source": [
    "matches$toss_match<-ifelse(as.character(matches$toss_winner)==as.character(matches$winner),\"Won\",\"Lost\")\n",
    "ggplot(matches[which(!is.na(matches$toss_match)),],aes(toss_match, fill = toss_match))+ \n",
    "geom_bar()+ xlab(\"Toss\") +ylab(\"Number of matches won\")+ ggtitle(\"How much of a advantage is winning the toss\")"
   ]
  },
  {
   "cell_type": "markdown",
   "metadata": {
    "_cell_guid": "ebce2c6b-d86d-6e6f-01a8-365dd4841c7e",
    "_uuid": "907cf3869badb951d390e7808d010fadc7b7148c"
   },
   "source": [
    "Is home advantage a real thing in IPL?\n",
    "----------------------"
   ]
  },
  {
   "cell_type": "code",
   "execution_count": null,
   "metadata": {
    "_cell_guid": "cda99ab1-25fe-3965-9d85-b7cf10f433e1",
    "_execution_state": "idle",
    "_uuid": "3a4b9ea689fcf0577d19b290c3cdb6f9a46edbbb",
    "trusted": true,
    "vscode": {
     "languageId": "r"
    }
   },
   "outputs": [],
   "source": [
    "Data<-matches[matches$season!=\"2009\",]\n",
    "Data$date<- as.Date(Data$date)\n",
    "Data1<-Data[Data$date < as.Date(\"2014-04-16\") | Data$date > as.Date(\"2014-04-30\"),]\n",
    "Data1$home_team[Data1$city==\"Bangalore\"]<- \"Royal Challengers Bangalore\"\n",
    "Data1$home_team[Data1$city==\"Chennai\"]<- \"Chennai Super Kings\"\n",
    "Data1$home_team[Data1$city==\"Delhi\"]<- \"Delhi Daredevils\"\n",
    "Data1$home_team[Data1$city==\"Chandigarh\"]<- \"Kings XI Punjab\"\n",
    "Data1$home_team[Data1$city==\"Jaipur\"]<- \"Rajasthan Royals\"\n",
    "Data1$home_team[Data1$city==\"Mumbai\"]<- \"Mumbai Indians\"\n",
    "Data1$home_team[Data1$city==\"Kolkata\"]<- \"Kolkata Knight Riders\"\n",
    "Data1$home_team[Data1$city==\"Kochi\"]<- \"Kochi Tuskers Kerala\"\n",
    "Data1$home_team[Data1$city==\"Hyderabad\" & Data1$season <=2012]<- \"Deccan Chargers\"\n",
    "Data1$home_team[Data1$city==\"Hyderabad\" & Data1$season >2012]<- \"Sunrisers Hyderabad\"\n",
    "Data1$home_team[Data1$city==\"Ahmedabad\"]<- \"Rajasthan Royals\"\n",
    "Data1$home_team[Data1$city==\"Dharamsala\"]<- \"Kings XI Punjab\"\n",
    "Data1$home_team[Data1$city==\"Visakhapatnam\" & Data1$season== 2015]<- \"Sunrisers Hyderabad\"\n",
    "Data1$home_team[Data1$city==\"Ranchi\" & Data1$season== 2013]<- \"Kolkata Knight Riders\"\n",
    "Data1$home_team[Data1$city==\"Ranchi\" & Data1$season > 2013]<- \"Chennai Super Kings\"\n",
    "Data1$home_team[Data1$city==\"Rajkot\" ]<- \"Gujarat Lions\"\n",
    "Data1$home_team[Data1$city==\"Kanpur\" ]<- \"Gujarat Lions\"\n",
    "Data1$home_team[Data1$city==\"Raipur\" ]<- \"Delhi Daredevils\"\n",
    "Data1$home_team[Data1$city==\"Nagpur\" ]<- \"Deccan Chargers\"\n",
    "Data1$home_team[Data1$city==\"Indore\" ]<- \"Kochi Tuskers Kerala\"\n",
    "Data1$home_team[Data1$city==\"Pune\" & Data1$season!= 2016]<- \"Pune Warriors\"\n",
    "Data1$home_team[Data1$city==\"Pune\" & Data1$season== 2016]<- \"Rising Pune Supergiants\"\n",
    "Data1<-Data1[ which(!is.na(Data1$home_team)),]\n",
    "Data1$win_host <- ifelse(as.character(Data1$winner)==as.character(Data1$home_team),\"Home\",\"Away\")\n",
    "\n",
    "ggplot(Data1[which(!is.na(Data1$win_host)),],aes(win_host,fill= win_host))+geom_bar()+\n",
    "  ggtitle(\"Is home advantage a real thing in IPL?\")+\n",
    "  xlab(\"Team\")+\n",
    "  ylab(\"Number of Matches won\")+labs(aesthetic=\"Winner\")   "
   ]
  },
  {
   "cell_type": "markdown",
   "metadata": {
    "_cell_guid": "5f0a5ef5-d761-67c7-9cf9-ab4a94aa8be3",
    "_uuid": "71f7dd28fca8081a8019d8a0c9670b00a8f2aed0"
   },
   "source": [
    "Number of matches played by each team\n",
    "-------------------------------------"
   ]
  },
  {
   "cell_type": "code",
   "execution_count": null,
   "metadata": {
    "_cell_guid": "d8645e75-47b4-b6e6-787f-ae8c7094f4ea",
    "_execution_state": "idle",
    "_uuid": "e86b716ea21129ff77e3512a1df6aa8694a000fa",
    "trusted": true,
    "vscode": {
     "languageId": "r"
    }
   },
   "outputs": [],
   "source": [
    "ggplot(as.data.frame(table(matches$team2) + table(matches$team1)),aes(reorder(Var1,-Freq),Freq,fill = Var1)) +geom_bar(stat = \"identity\")+\n",
    "  theme(axis.text.x = element_text(angle = 90, hjust = 1))+ xlab(\"Player\")+\n",
    "  ylab(\"Number of Matches\") +guides(fill=FALSE)"
   ]
  },
  {
   "cell_type": "markdown",
   "metadata": {
    "_cell_guid": "644c67fb-c336-bc91-4a5d-fc4e6989c7ae",
    "_uuid": "9da76be2eaf5c8990c024cd70c2a7979fd5a0e15"
   },
   "source": [
    "Number of Matches won by each teams\n",
    "-----------------------------------"
   ]
  },
  {
   "cell_type": "code",
   "execution_count": null,
   "metadata": {
    "_cell_guid": "df141565-d54b-5a06-00aa-e15da4b2e440",
    "_execution_state": "idle",
    "_uuid": "f59e14924d66b58837d6a08af1b7ff9b96dc425f",
    "trusted": true,
    "vscode": {
     "languageId": "r"
    }
   },
   "outputs": [],
   "source": [
    "ggplot(matches,aes(winner)) +geom_bar(fill=\"#0072B2\") +\n",
    "theme(axis.text.x = element_text(angle = 90, hjust = 1))+ xlab(\"Team\")+\n",
    "ylab(\"Matches won\") "
   ]
  },
  {
   "cell_type": "markdown",
   "metadata": {
    "_cell_guid": "1418f108-fbe3-ee74-d131-19d626874b98",
    "_uuid": "122890fababa210ca74ba37877154f4190e810ea"
   },
   "source": [
    "Win percentage of each team in IPL\n",
    "----------------------------------"
   ]
  },
  {
   "cell_type": "code",
   "execution_count": null,
   "metadata": {
    "_cell_guid": "2799654e-c9b9-7ab5-f9bd-b92c98134e87",
    "_execution_state": "idle",
    "_uuid": "8cf00f6568dfc3cf23b16f0ff681ea1306509f84",
    "trusted": true,
    "vscode": {
     "languageId": "r"
    }
   },
   "outputs": [],
   "source": [
    "matches_won<-as.data.frame(table(matches$winner))\n",
    "colnames(matches_won)[2]<-\"Won\"\n",
    "matches_played<-as.data.frame(table(matches$team2) + table(matches$team1))\n",
    "colnames(matches_played)[2]<-\"Played\"\n",
    "\n",
    "ggplot(left_join(matches_played,matches_won ),aes(reorder(Var1,-Won/Played),Won*100/Played,fill = Var1)) +geom_bar(stat = \"identity\")+\n",
    "  theme(axis.text.x = element_text(angle = 90, hjust = 1))+ xlab(\"Team\")+\n",
    "  ylab(\"Win Percentage\") +  guides(fill=FALSE)+coord_cartesian(ylim = c(0, 100)) "
   ]
  },
  {
   "cell_type": "markdown",
   "metadata": {
    "_cell_guid": "d3bfc8df-55e7-1fac-055e-d105ddeb4dd7",
    "_uuid": "3ff5e69ebaf1c36c5c37265131555998c2f8cde3"
   },
   "source": [
    "<!-- > Margin of victories in IPL -->\n",
    "--------------------------"
   ]
  },
  {
   "cell_type": "code",
   "execution_count": null,
   "metadata": {
    "_cell_guid": "7332457b-ce7b-7634-699d-d4f1efead651",
    "_execution_state": "idle",
    "_uuid": "3865e76f438bfc8e08ce2252c8677d9cb751ee10",
    "trusted": true,
    "vscode": {
     "languageId": "r"
    }
   },
   "outputs": [],
   "source": [
    "#   ggplot(matches[matches$win_by_runs!=0,],aes(id,win_by_runs,col= winner )) + geom_point() +\n",
    "#   ylab(\"Runs won by \") + xlab(\"Matches won by team batting first\")+\n",
    "#   ggtitle(\"Margin of Victories(Won by team batting first)\")+ \n",
    "#   scale_y_continuous(breaks=c(0,25,50,75,100))  \n",
    "# ggplot(matches[matches$win_by_wickets!=0,],aes(id,win_by_wickets,col= winner )) + geom_point() +\n",
    "#   ylab(\"Wickets won by \") + xlab(\"Matches won by team bowling first\")+\n",
    "#   ggtitle(\"Margin of Victories(Won by team bowling first)\")+\n",
    "#   scale_y_continuous(breaks=c(2,4,6,8,10))"
   ]
  },
  {
   "cell_type": "markdown",
   "metadata": {
    "_cell_guid": "c419f970-5579-f33b-ffe7-48f17c95b470",
    "_uuid": "ac5b8528a97c7953ac1a1c628a7ab6b7d46eaf02"
   },
   "source": [
    "Top Batsmen\n",
    "-----------"
   ]
  },
  {
   "cell_type": "code",
   "execution_count": null,
   "metadata": {
    "_cell_guid": "7ba39c58-8ff9-d5c4-0cc2-065fa667144a",
    "_execution_state": "idle",
    "_uuid": "1bfc61696e411e9ced8bfbcf3b6cec7b950490a5",
    "trusted": true,
    "vscode": {
     "languageId": "r"
    }
   },
   "outputs": [],
   "source": [
    " df<- deliveries %>% group_by(batsman)%>% summarise(runs=sum(batsman_runs)) %>% arrange(desc(runs)) %>%\n",
    "  filter(runs > 3000) \n",
    "  df %>% ggplot(aes(reorder(batsman,-runs),runs,fill=batsman)) +geom_bar(stat = \"identity\") +xlab(\"Batsman\")+ ylab(\"Runs\")+\n",
    "  theme(axis.text.x = element_text(angle = 90, hjust = 1))+ xlab(\"Player\")+ ggtitle(\"Top Batsmen\")+ guides(fill=F)"
   ]
  },
  {
   "cell_type": "markdown",
   "metadata": {
    "_cell_guid": "1b9895ee-6853-b2d0-d4d7-d84eefe25d60",
    "_uuid": "00225c8b6f50a36be730c52cc485ba1ca6774935"
   },
   "source": [
    "Best seat in the house => Non-striker's end!\n",
    "--------------------------------------------\n",
    "Compare this plot with the earlier one, it clearly shows without significant contribution from the other end you cant accumulate runs unless you are CH GAYLE of course"
   ]
  },
  {
   "cell_type": "code",
   "execution_count": null,
   "metadata": {
    "_cell_guid": "c8f845a0-881c-8626-ea4c-db33fe234501",
    "_execution_state": "idle",
    "_uuid": "5b1485ef75df5255a85a2848a14b09aac937e85f",
    "trusted": true,
    "vscode": {
     "languageId": "r"
    }
   },
   "outputs": [],
   "source": [
    " deliveries %>% group_by(non_striker) %>% \n",
    "    summarise(Runs= sum(total_runs)) %>% top_n(n=10,wt= Runs) %>% ggplot(aes(reorder(non_striker,-Runs),Runs,fill=non_striker)) + geom_bar(stat=\"identity\")+ xlab(\"Players\") +\n",
    "    theme(axis.text.x = element_text(angle = 75, hjust = 1)) + guides(fill=F) + ggtitle(\"Best seat in the house- Non-striker's end!\") "
   ]
  },
  {
   "cell_type": "markdown",
   "metadata": {
    "_cell_guid": "6f23e2b7-3d5c-06dd-26be-2e909c3df860",
    "_uuid": "f0d7db820dc0e3f70f31b3990ee93af2a8d0a275"
   },
   "source": [
    "Top Bowlers\n",
    "-----------"
   ]
  },
  {
   "cell_type": "code",
   "execution_count": null,
   "metadata": {
    "_cell_guid": "6a30af30-506d-2904-6eb5-e2ddef513576",
    "_execution_state": "idle",
    "_uuid": "4e51a935d377d7d358d8ae5d8cf5dfcef4b0dfbe",
    "trusted": true,
    "vscode": {
     "languageId": "r"
    }
   },
   "outputs": [],
   "source": [
    "df<-deliveries %>% group_by(bowler) %>% filter(player_dismissed!=\"\") %>% summarise(wickets= length(player_dismissed)) %>% top_n(n=10,wt=wickets) \n",
    "  df %>% ggplot(aes(reorder(bowler,-wickets),wickets,fill=bowler))+geom_bar(stat = \"identity\") + ylab(\"Wickets\")+\n",
    "  theme(axis.text.x = element_text(angle = 90, hjust = 1))+ xlab(\"Player\")+ ggtitle(\"Top Bowlers\")+ guides(fill=F)"
   ]
  },
  {
   "cell_type": "markdown",
   "metadata": {
    "_cell_guid": "e085bb81-beb3-75a7-b781-cc09249002a7",
    "_uuid": "06ffdb8e9a0f5cfc63913dbb7bb45c288731fc56"
   },
   "source": [
    "Total runs scored in each delivery of the over\n",
    "----------------------------------------------"
   ]
  },
  {
   "cell_type": "code",
   "execution_count": null,
   "metadata": {
    "_cell_guid": "12d853c3-a533-5e3c-e86d-2286c4ebf26c",
    "_execution_state": "idle",
    "_uuid": "fdbdc1e60802cb017a5e00d8279a56d5427863f8",
    "trusted": true,
    "vscode": {
     "languageId": "r"
    }
   },
   "outputs": [],
   "source": [
    "df <- deliveries %>% group_by(ball) %>% summarise(Runs = sum(total_runs)) %>% filter(ball<7) \n",
    "  print(df)\n",
    "  df %>% ggplot(aes(ball,Runs,fill=ball)) +geom_bar(stat = \"identity\")+scale_x_continuous(breaks = c(1,2,3,4,5,6))+ \n",
    "  guides(fill=F) +xlab(\"Ball\") + ylab(\"Total runs scored\") + ggtitle(\"Total runs scored in each delivery of the over\")\n"
   ]
  },
  {
   "cell_type": "markdown",
   "metadata": {
    "_cell_guid": "1fa2136f-7229-f773-5b90-2d44c98ef0a4",
    "_uuid": "c5056867956e0e54c7c78c27112f47a5133fe12a"
   },
   "source": [
    "Average number of runs scored in each delivery of the over\n",
    "----------------------------------------------------------"
   ]
  },
  {
   "cell_type": "code",
   "execution_count": null,
   "metadata": {
    "_cell_guid": "19cd6d86-9b5a-4d74-b953-aee474d067c8",
    "_execution_state": "idle",
    "_uuid": "377f82f200a8d3d0219c41749b1a0e7657a20c3e",
    "trusted": true,
    "vscode": {
     "languageId": "r"
    }
   },
   "outputs": [],
   "source": [
    "df<-deliveries %>% group_by(ball) %>% summarise(Runs = mean(total_runs)) %>% filter(ball<7)\n",
    "  print(df)\n",
    "  df %>% ggplot(aes(ball,Runs,fill=ball)) +geom_bar(stat = \"identity\")+scale_x_continuous(breaks = c(1,2,3,4,5,6))+ \n",
    "  guides(fill=F) +xlab(\"Ball\") + ylab(\"Average runs scored\") + ggtitle(\"Average number of runs scored in each delivery of the over\")"
   ]
  },
  {
   "cell_type": "markdown",
   "metadata": {
    "_cell_guid": "c18cd107-860d-9df9-1530-f58890335268",
    "_uuid": "5edb7e8e4752cd585a1af5ab77063386758bbea9"
   },
   "source": [
    "Total number of runs scored in each over of the innings\n",
    "-------------------------------------------------------"
   ]
  },
  {
   "cell_type": "code",
   "execution_count": null,
   "metadata": {
    "_cell_guid": "3f1cb7fa-6ab3-a17a-d6ba-1d25268a178c",
    "_execution_state": "idle",
    "_uuid": "11eeedf4f211b8de000d897787e74cf60416eaee",
    "trusted": true,
    "vscode": {
     "languageId": "r"
    }
   },
   "outputs": [],
   "source": [
    "df <- deliveries %>% group_by(over) %>% filter(is_super_over==0) %>% summarise(Runs= sum(total_runs))\n",
    "  print(df)\n",
    "  df %>% ggplot(aes(over,Runs,fill=over))+geom_bar(stat = \"identity\")+scale_x_continuous(breaks = 1:20)+ \n",
    "   guides(fill=F) +xlab(\"Over\") + ylab(\"Total runs scored\") + ggtitle(\"Total number of runs scored in each over of the innings\")\n",
    "  "
   ]
  },
  {
   "cell_type": "markdown",
   "metadata": {
    "_cell_guid": "1fd71015-7972-4bb6-5246-777a5494f9b7",
    "_uuid": "4746cd05cd08dcb311c6c3c869e31ac0a6d9ff26"
   },
   "source": [
    "Average number of runs scored in each over of the innings\n",
    "---------------------------------------------------------"
   ]
  },
  {
   "cell_type": "code",
   "execution_count": null,
   "metadata": {
    "_cell_guid": "50dc34c6-2a89-ea4d-cc2f-8f41da6f40cc",
    "_execution_state": "idle",
    "_uuid": "a3d637db70442733a2e87bc11262444da6e58ad0",
    "trusted": true,
    "vscode": {
     "languageId": "r"
    }
   },
   "outputs": [],
   "source": [
    "df <- deliveries %>% group_by(over) %>% filter(is_super_over==0) %>% summarise(Runs= mean(total_runs)*6)\n",
    "  print(df)\n",
    "  df %>% ggplot(aes(over,Runs,fill=over))+geom_bar(stat = \"identity\")+scale_x_continuous(breaks = 1:20)+ \n",
    "  guides(fill=F) +xlab(\"Over\") + ylab(\"Total runs scored\") + ggtitle(\"Average number of runs scored in each over of the innings\")"
   ]
  },
  {
   "cell_type": "markdown",
   "metadata": {
    "_cell_guid": "ad0faf80-e60f-6f9f-0c4f-d4c22680e539",
    "_uuid": "da5da87c6ef60169e5ed4179f18e9e596efb83d4"
   },
   "source": [
    "Total number of wickets in each over of the innings\n",
    "---------------------------------------------------"
   ]
  },
  {
   "cell_type": "code",
   "execution_count": null,
   "metadata": {
    "_cell_guid": "1de15fc1-ff15-2072-3de1-12a82efa4f86",
    "_execution_state": "idle",
    "_uuid": "5a616da224f5ffef592873b566abace7b2749193",
    "trusted": true,
    "vscode": {
     "languageId": "r"
    }
   },
   "outputs": [],
   "source": [
    " deliveries %>% group_by(over) %>% filter(is_super_over==0) %>% summarise(Wickets= length(player_dismissed)) %>% \n",
    "    ggplot(aes(over,Wickets,fill=over))+geom_bar(stat = \"identity\") +scale_x_continuous(breaks = 1:20)+ \n",
    "     guides(fill=F) +xlab(\"Over\") + ylab(\"Total wickets taken\") + ggtitle(\"Total number of wickets in each over of the innings\")\n",
    "  "
   ]
  },
  {
   "cell_type": "markdown",
   "metadata": {
    "_cell_guid": "fc101534-88db-3979-6be2-84d799f5d094",
    "_uuid": "0aa2426dc660d411bd4b8c08b30061dc0714b536"
   },
   "source": [
    "Batsmen with top strike rate\n",
    "----------------------------"
   ]
  },
  {
   "cell_type": "code",
   "execution_count": null,
   "metadata": {
    "_cell_guid": "fd763095-b09c-a98e-b592-06a29f632fde",
    "_execution_state": "idle",
    "_uuid": "c64282b72a83c3c3afbdb57d032138257f3c3616",
    "trusted": true,
    "vscode": {
     "languageId": "r"
    }
   },
   "outputs": [],
   "source": [
    "deliveries %>% group_by(batsman) %>% filter(length(total_runs)>500) %>% summarise(strike_rate= mean(batsman_runs)*100) %>% top_n(n=10,wt=strike_rate) %>%\n",
    "  ggplot(aes(reorder(batsman,-strike_rate),strike_rate,fill=batsman))+ geom_bar(stat=\"identity\")+ xlab(\"Batsman\") + ylab(\"Strike Rate\") +\n",
    "  ggtitle(\"Batsmen with top strike rate\",subtitle = \"Minimum 500 balls faced\")+\n",
    "    theme(axis.text.x = element_text(angle = 75, hjust = 1)) + guides(fill=F)"
   ]
  },
  {
   "cell_type": "markdown",
   "metadata": {
    "_cell_guid": "e96fc397-a114-1a43-9702-04af37d9d558",
    "_uuid": "7c7f2ca915a4b73dd07de077ebb97a905f18a905"
   },
   "source": [
    "Comparing the all time top run getters in IPL \n",
    "---------------------------------------------\n",
    "**(V Kohli, R Sharma, S Raina, G Gambhir)**\n"
   ]
  },
  {
   "cell_type": "markdown",
   "metadata": {
    "_cell_guid": "6d0ae5a4-a671-8321-eae0-0c19f23ae17b",
    "_uuid": "406161e940184bfb4ad3a025c19dafe785bbf2eb"
   },
   "source": [
    "**Against which bowlers have the top run-getters performed?**\n"
   ]
  },
  {
   "cell_type": "code",
   "execution_count": null,
   "metadata": {
    "_cell_guid": "f68ce565-f30d-e15b-1c6b-4752c50964a7",
    "_execution_state": "idle",
    "_uuid": "578212bdc65072ffadb6903bf6de162c36e68ab6",
    "trusted": true,
    "vscode": {
     "languageId": "r"
    }
   },
   "outputs": [],
   "source": [
    "Kohli<- deliveries %>% group_by(batsman,bowler) %>% filter(batsman==\"V Kohli\") %>% summarise(runs=sum(batsman_runs)) %>% top_n(n=50,wt=runs)\n",
    "Rohit<- deliveries %>% group_by(batsman,bowler) %>% filter(batsman==\"RG Sharma\") %>% summarise(runs=sum(batsman_runs)) %>% top_n(n=50,wt=runs)\n",
    "Gambhir<- deliveries %>% group_by(batsman,bowler) %>% filter(batsman==\"G Gambhir\") %>% summarise(runs=sum(batsman_runs)) %>% top_n(n=50,wt=runs)\n",
    "Raina<- deliveries %>% group_by(batsman,bowler) %>% filter(batsman==\"SK Raina\") %>% summarise(runs=sum(batsman_runs)) %>% top_n(n=50,wt=runs)\n",
    "treemap(Kohli, #Your data frame object\n",
    "          index=c(\"batsman\",\"bowler\"),  #A list of your categorical variables\n",
    "          vSize = \"runs\",  #This is your quantitative variable\n",
    "          type=\"index\", #Type sets the organization and color scheme of your treemap\n",
    "          palette = brewer.pal(7,\"Reds\"),  #Select your color palette from the RColorBrewer presets or make your own.\n",
    "          fontsize.title = 12,\n",
    "          fontfamily.title = \"serif\",\n",
    "          fontfamily.labels = \"symbol\",\n",
    "          title = \"Runs by Virat Kohli against different bowlers\",\n",
    "          fontface.labels = \"bold\",\n",
    "          border.col=\"#FFFFFF\",\n",
    "          fontsize.legend = 0,bg.labels = \"black\",fontcolor.labels= \"#FFFFFF\",\n",
    "          aspRatio= 1.1\n",
    " )\n",
    "treemap(Rohit, #Your data frame object\n",
    "          index=c(\"batsman\",\"bowler\"),  #A list of your categorical variables\n",
    "          vSize = \"runs\",  #This is your quantitative variable\n",
    "          type=\"index\", #Type sets the organization and color scheme of your treemap\n",
    "          palette = brewer.pal(7,\"Blues\"),  #Select your color palette from the RColorBrewer presets or make your own.\n",
    "          fontsize.title = 12,\n",
    "          fontfamily.title = \"serif\",\n",
    "          fontfamily.labels = \"symbol\",\n",
    "          title = \"Runs by RG Sharma against different bowlers\",\n",
    "          fontface.labels = \"bold\",\n",
    "           border.col=\"#FFFFFF\",\n",
    "           fontsize.legend = 0,bg.labels = \"black\",fontcolor.labels= \"#FFFFFF\",\n",
    "          aspRatio= 1.1\n",
    " )\n",
    "treemap(Gambhir, #Your data frame object\n",
    "          index=c(\"batsman\",\"bowler\"),  #A list of your categorical variables\n",
    "          vSize = \"runs\",  #This is your quantitative variable\n",
    "          type=\"index\", #Type sets the organization and color scheme of your treemap\n",
    "          palette = brewer.pal(4,\"Purples\"),  #Select your color palette from the RColorBrewer presets or make your own.\n",
    "          fontsize.title = 12,\n",
    "          fontfamily.title = \"serif\",\n",
    "          fontfamily.labels = \"symbol\",\n",
    "          title = \"Runs by G Gambhir against different bowlers\",\n",
    "          fontface.labels = \"bold\",\n",
    "          border.col=\"#FFFFFF\",\n",
    "          fontsize.legend = 0,bg.labels = \"black\",fontcolor.labels= \"#FFFFFF\",\n",
    "          aspRatio= 1.1\n",
    " )\n",
    "treemap(Raina, #Your data frame object\n",
    "          index=c(\"batsman\",\"bowler\"),  #A list of your categorical variables\n",
    "          vSize = \"runs\",  #This is your quantitative variable\n",
    "          type=\"index\", #Type sets the organization and color scheme of your treemap\n",
    "          palette = brewer.pal(3,\"YlOrBr\"),  #Select your color palette from the RColorBrewer presets or make your own.\n",
    "          fontsize.title = 12,\n",
    "          fontfamily.title = \"serif\",\n",
    "          fontfamily.labels = \"symbol\",\n",
    "          title = \"Runs by SK Raina against different bowlers\",\n",
    "          fontface.labels = \"bold\",\n",
    "          border.col=\"#FFFFFF\",\n",
    "          fontsize.legend = 0,\n",
    "          bg.labels = \"black\",fontcolor.labels= \"#FFFFFF\",\n",
    "           aspRatio= 1.1\n",
    " )"
   ]
  },
  {
   "cell_type": "markdown",
   "metadata": {
    "_cell_guid": "98a07131-14a7-ad1f-0653-76f0d219a510",
    "_uuid": "fc102beb2faebe91c406f30f402b5598db4654b2"
   },
   "source": [
    "**Top run getters performance against different teams**\n"
   ]
  },
  {
   "cell_type": "code",
   "execution_count": null,
   "metadata": {
    "_cell_guid": "aef4b953-20c5-a9ef-e188-2e31e2db2921",
    "_execution_state": "idle",
    "_uuid": "b309b7a55dd6e90c1352e975d7b79754f7baedef",
    "trusted": true,
    "vscode": {
     "languageId": "r"
    }
   },
   "outputs": [],
   "source": [
    " df<-deliveries %>% filter(batsman==\"V Kohli\"| batsman==\"SK Raina\" |batsman==\"RG Sharma\"|batsman==\"G Gambhir\")  %>% \n",
    " group_by(batsman,bowling_team) %>% summarise(runs = sum(batsman_runs)) %>% filter(runs >100)\n",
    "  treemap(df, #Your data frame object\n",
    "          index=c(\"batsman\",\"bowling_team\"),  #A list of your categorical variables\n",
    "          vSize = \"runs\", \n",
    "          vColor = \"bowling_team\",\n",
    "          type=\"categorical\", #Type sets the organization and color scheme of your treemap\n",
    "          palette = brewer.pal(12,\"Set3\"),  #Select your color palette from the RColorBrewer presets or make your own.\n",
    "          fontsize.title = 15,\n",
    "          fontfamily.title = \"serif\",\n",
    "          fontfamily.labels = \"symbol\",\n",
    "          title = \"Runs against diff teams\",\n",
    "          aspRatio = 1,\n",
    "          border.col=\"#FFFFFF\",bg.labels = \"#FFFFFF\" ,fontcolor.labels= \"black\",fontsize.legend = 0\n",
    "  )"
   ]
  },
  {
   "cell_type": "markdown",
   "metadata": {
    "_cell_guid": "e2e97c4b-a253-6e28-1ee3-1dd07ab01e42",
    "_uuid": "a6cbf22b08c162ac7c54ceb1ff35fbe5e40ba104"
   },
   "source": [
    "**Batting with whom have our top run getters been successful?**\n"
   ]
  },
  {
   "cell_type": "code",
   "execution_count": null,
   "metadata": {
    "_cell_guid": "408873d3-1e2a-c671-dcec-5a77c62c0368",
    "_execution_state": "idle",
    "_uuid": "bc4db034fbe25fd43de2053c9578c885c1d81374",
    "trusted": true,
    "vscode": {
     "languageId": "r"
    }
   },
   "outputs": [],
   "source": [
    "df<-deliveries %>% filter(batsman==\"V Kohli\"| batsman==\"SK Raina\" |batsman==\"RG Sharma\"|batsman==\"G Gambhir\")  %>% \n",
    "    group_by(batsman,non_striker) %>% summarise(runs = sum(batsman_runs)) %>% filter(runs >100)\n",
    "  treemap(df, #Your data frame object\n",
    "          index=c(\"batsman\",\"non_striker\"),  #A list of your categorical variables\n",
    "          vSize = \"runs\", \n",
    "          vColor = \"batsman\",\n",
    "          type=\"categorical\", #Type sets the organization and color scheme of your treemap\n",
    "          palette = brewer.pal(6,\"Set1\"),  #Select your color palette from the RColorBrewer presets or make your own.\n",
    "          fontsize.title = 15,\n",
    "          fontfamily.title = \"serif\",\n",
    "          fontfamily.labels = \"italic\",\n",
    "          title = \"Runs with different players at the other end \",\n",
    "          aspRatio = 1,\n",
    "          border.col=\"#FFFFFF\",bg.labels = \"black\" ,fontcolor.labels= \"#FFFFFF\",fontsize.legend = 0\n",
    "  )"
   ]
  },
  {
   "cell_type": "markdown",
   "metadata": {
    "_cell_guid": "3b2486d1-0a9f-3300-0f7a-b5c862777855",
    "_uuid": "7f034ba9727ca9c09b5ca113b046d41baa35ba4f"
   },
   "source": [
    "**Type of Dismissals**"
   ]
  },
  {
   "cell_type": "code",
   "execution_count": null,
   "metadata": {
    "_cell_guid": "6da269d3-0eae-7882-e43e-30efce6fbb5b",
    "_execution_state": "idle",
    "_uuid": "5a80602014699da4378f947d0f446b1b996d6b57",
    "trusted": true,
    "vscode": {
     "languageId": "r"
    }
   },
   "outputs": [],
   "source": [
    " df<-deliveries %>% \n",
    "    filter(player_dismissed==\"V Kohli\"| player_dismissed==\"SK Raina\" |player_dismissed==\"RG Sharma\"|player_dismissed==\"G Gambhir\") %>%\n",
    "    group_by(player_dismissed,dismissal_kind) %>% summarise(type= length(dismissal_kind))\n",
    "  \n",
    "  treemap(df, #Your data frame object\n",
    "          index=c(\"player_dismissed\",\"dismissal_kind\"),  #A list of your categorical variables\n",
    "          vSize = \"type\", \n",
    "          vColor = \"dismissal_kind\",\n",
    "          type=\"categorical\", #Type sets the organization and color scheme of your treemap\n",
    "          palette = brewer.pal(6,\"Set2\"),  #Select your color palette from the RColorBrewer presets or make your own.\n",
    "          fontsize.title = 15,\n",
    "          fontfamily.title = \"serif\",\n",
    "          fontfamily.labels = \"italic\",\n",
    "          title = \"Type of Dismissals \",\n",
    "          aspRatio = 1,\n",
    "          border.col=\"#FFFFFF\",bg.labels = \"black\" ,fontcolor.labels= \"#FFFFFF\",fontsize.legend = 0\n",
    "  )"
   ]
  },
  {
   "cell_type": "markdown",
   "metadata": {
    "_cell_guid": "64fdcaab-0811-b047-d546-9b8b555dee00",
    "_uuid": "889f1ea486bef4285e20a205df64f87c73f4974b"
   },
   "source": [
    "**Strike rate in different stages of the game**"
   ]
  },
  {
   "cell_type": "code",
   "execution_count": null,
   "metadata": {
    "_cell_guid": "46ad7b4d-bc11-46a3-244f-2f2e46c63563",
    "_execution_state": "idle",
    "_uuid": "06f599e942f25fd6bb289ebf081dada053e6f5ad",
    "trusted": true,
    "vscode": {
     "languageId": "r"
    }
   },
   "outputs": [],
   "source": [
    "deliveries %>% \n",
    "    filter(batsman==\"V Kohli\"| batsman==\"SK Raina\" |batsman==\"RG Sharma\"|batsman==\"G Gambhir\") %>% \n",
    "    group_by(batsman,over) %>% summarise(strike= mean(batsman_runs)*100) %>%  \n",
    "    ggplot(aes(over,strike, col=batsman)) + geom_line(size=2) + ylab(\"Strike Rate\") + \n",
    "    ggtitle(\"Strike rate in different stages of the game \") + scale_x_continuous(breaks = 1:20)"
   ]
  },
  {
   "cell_type": "markdown",
   "metadata": {
    "_cell_guid": "067c136a-795f-9780-d00c-8838bf894338",
    "_uuid": "f55c92c787664f17a46cbd4787c9d0f98fdb1e77"
   },
   "source": [
    "**Season wise comparison(Runs)**"
   ]
  },
  {
   "cell_type": "code",
   "execution_count": null,
   "metadata": {
    "_cell_guid": "946edf19-3e76-3abd-b976-6f6480477aa5",
    "_execution_state": "idle",
    "_uuid": "dffb84b51938436c3860e619241e6a7c3dadc37e",
    "trusted": true,
    "vscode": {
     "languageId": "r"
    }
   },
   "outputs": [],
   "source": [
    "deliveries %>% left_join(matches) %>% \n",
    "  filter(batsman==\"V Kohli\"| batsman==\"SK Raina\" |batsman==\"RG Sharma\"|batsman==\"G Gambhir\") %>% \n",
    "  group_by(batsman,season) %>% summarise(runs = sum(batsman_runs)) %>%\n",
    "    ggplot(aes(season,runs, col=batsman)) +geom_line(size= 2) + ggtitle(\"Season wise comparision(Runs)\") +\n",
    "    scale_x_continuous(breaks = 2008:2018)\n",
    "    "
   ]
  },
  {
   "cell_type": "markdown",
   "metadata": {
    "_cell_guid": "8667a0e7-3024-95b5-32e7-a4482084e968",
    "_uuid": "08f77e85babea9320c7c89f81721cef4d9f8476e"
   },
   "source": [
    "**Season wise comparison(Boundaries)**"
   ]
  },
  {
   "cell_type": "code",
   "execution_count": null,
   "metadata": {
    "_cell_guid": "5b570ecb-630b-2c0e-84e6-b742f32a9ba0",
    "_execution_state": "idle",
    "_uuid": "df1f3ab50064a78becdbbaf1dd598d1fcb231d38",
    "trusted": true,
    "vscode": {
     "languageId": "r"
    }
   },
   "outputs": [],
   "source": [
    " deliveries %>% left_join(matches) %>% filter(batsman==\"V Kohli\"| batsman==\"SK Raina\" |batsman==\"RG Sharma\"|batsman==\"G Gambhir\") %>% \n",
    "   filter(batsman_runs==4|batsman_runs==6) %>% group_by(batsman,season) %>% summarise(boundaries= length(batsman_runs)) %>%\n",
    "    ggplot(aes(season,boundaries, col=batsman)) +geom_line(size= 2) + ggtitle(\"Season wise comparision(Boundaries)\") +\n",
    "    scale_x_continuous(breaks = 2008:2018)"
   ]
  },
  {
   "cell_type": "markdown",
   "metadata": {
    "_cell_guid": "c6aea7ed-65df-841a-2729-796ac0647973",
    "_uuid": "b90c403c14be67abc578567cd7359d63bb770d99"
   },
   "source": [
    "**Distribution of Runs**"
   ]
  },
  {
   "cell_type": "code",
   "execution_count": null,
   "metadata": {
    "_cell_guid": "d06f934e-6845-a31d-3b79-0c3550f9f2dc",
    "_execution_state": "idle",
    "_uuid": "6f71047b380398c0fa077f7e64bf5c65e97581d2",
    "trusted": true,
    "vscode": {
     "languageId": "r"
    }
   },
   "outputs": [],
   "source": [
    "deliveries %>% left_join(matches) %>% filter(batsman==\"V Kohli\"| batsman==\"SK Raina\" |batsman==\"RG Sharma\"|batsman==\"G Gambhir\") %>% \n",
    "  group_by(batsman,batsman_runs) %>% summarise(freq=length(batsman_runs)) %>% filter(batsman_runs != 5) %>%\n",
    "    ggplot(aes(batsman,freq,fill=as.factor(batsman_runs))) + \n",
    "    geom_bar(stat = \"identity\",position= \"dodge\") + coord_flip() + ylab(\"Frequency\") + xlab(\" Batsman\") +\n",
    "    labs(fill=\"Type of runs scored\")"
   ]
  },
  {
   "cell_type": "markdown",
   "metadata": {
    "_cell_guid": "86356bc7-bda2-4799-7080-7f5d95815903",
    "_uuid": "a7212890bacf90bf34fcdb507252939e9b3524d8"
   },
   "source": [
    "Innings Progression\n",
    "-------------------"
   ]
  },
  {
   "cell_type": "code",
   "execution_count": null,
   "metadata": {
    "_cell_guid": "9fe1ba1d-3617-4270-7e89-29fe58de90f5",
    "_execution_state": "idle",
    "_uuid": "cb5118245032ce606a54dae6ad69a8f827fb8bf0",
    "trusted": true,
    "vscode": {
     "languageId": "r"
    }
   },
   "outputs": [],
   "source": [
    " deliveries %>% filter(batsman==\"V Kohli\") %>%\n",
    "    group_by(match_id) %>% \n",
    "    mutate(cum_run= cumsum(batsman_runs),cum_ball=1:length(match_id)) %>%\n",
    "    ggplot(aes(cum_ball,cum_run,col= as.factor(batsman_runs))) + \n",
    "    geom_point()  + labs(col=\"Type of Runs\") + xlab(\"Balls\") + ylab(\"Runs\")+\n",
    "    ggtitle(\"Innings Progression- Virat Kohli\") +  coord_cartesian(ylim = c(0, 120)) \n",
    "\n",
    " deliveries %>% filter(batsman==\"G Gambhir\") %>%\n",
    "    group_by(match_id) %>% \n",
    "    mutate(cum_run= cumsum(batsman_runs),cum_ball=1:length(match_id)) %>%\n",
    "    ggplot(aes(cum_ball,cum_run,col= as.factor(batsman_runs))) + \n",
    "    geom_point()  + labs(col=\"Type of Runs\") + xlab(\"Balls\") + ylab(\"Runs\")+\n",
    "    ggtitle(\"Innings Progression- G Gambhir\")+  coord_cartesian(ylim = c(0, 120)) \n",
    " deliveries %>% filter(batsman==\"RG Sharma\") %>%\n",
    "    group_by(match_id) %>% \n",
    "    mutate(cum_run= cumsum(batsman_runs),cum_ball=1:length(match_id)) %>%\n",
    "    ggplot(aes(cum_ball,cum_run,col= as.factor(batsman_runs))) + \n",
    "    geom_point()  + labs(col=\"Type of Runs\") + xlab(\"Balls\") + ylab(\"Runs\")+\n",
    "    ggtitle(\"Innings Progression- RG Sharma\")+  coord_cartesian(ylim = c(0, 120)) \n",
    " deliveries %>% filter( batsman==\"SK Raina\" ) %>%\n",
    "    group_by(match_id) %>% \n",
    "    mutate(cum_run= cumsum(batsman_runs),cum_ball=1:length(match_id)) %>%\n",
    "    ggplot(aes(cum_ball,cum_run,col= as.factor(batsman_runs))) + \n",
    "    geom_point()  + labs(col=\"Type of Runs\") + xlab(\"Balls\") + ylab(\"Runs\")+\n",
    "    ggtitle(\"Innings Progression- SK Raina\")+  coord_cartesian(ylim = c(0, 120)) "
   ]
  },
  {
   "cell_type": "code",
   "execution_count": null,
   "metadata": {
    "_cell_guid": "cec015ff-a024-b42e-51e6-05ffd1311ece",
    "_execution_state": "idle",
    "_uuid": "c1544f3bb1162cfd9a42f3e97a471b8e3f0a0708",
    "trusted": true,
    "vscode": {
     "languageId": "r"
    }
   },
   "outputs": [],
   "source": [
    "colnames(matches)[1]<- \"match_id\" \n",
    "deliveries %>% left_join(matches) %>% filter(batsman==\"V Kohli\"| batsman==\"SK Raina\" |batsman==\"RG Sharma\"|batsman==\"G Gambhir\") %>%\n",
    "    group_by(match_id) %>% \n",
    "   mutate(cum_run= cumsum(batsman_runs),cum_ball=1:length(match_id)) %>%\n",
    "    ggplot(aes(cum_ball,cum_run,col=ifelse(as.character(batting_team)==as.character(winner),\"Winning Cause\",\"Losing Cause\"))) + \n",
    "    geom_point() + facet_wrap(~batsman,ncol=2) + labs(col=\"Type of Runs\") + xlab(\"Balls\") + ylab(\"Runs\")+\n",
    "    ggtitle(\" Relating Innings Progression with Result of the match\")"
   ]
  },
  {
   "cell_type": "code",
   "execution_count": null,
   "metadata": {
    "_cell_guid": "ce82c493-a8f3-44b7-9f0a-4e9d8c392018",
    "_execution_state": "idle",
    "_uuid": "a5286da0362eb00e35c59f60d52f345e66ca8477",
    "trusted": true,
    "vscode": {
     "languageId": "r"
    }
   },
   "outputs": [],
   "source": [
    " deliveries %>%  left_join(matches) %>% filter(batsman==\"V Kohli\"| batsman==\"SK Raina\" |batsman==\"RG Sharma\"|batsman==\"G Gambhir\") %>% \n",
    "    group_by(match_id) %>% \n",
    "    mutate(cum_run= cumsum(batsman_runs),cum_ball=1:length(match_id)) %>% filter(is_super_over==0) %>%\n",
    "    ggplot(aes(cum_ball,cum_run,col=as.factor(inning))) + geom_point()  + facet_wrap(~batsman,ncol=2) + labs(col=\"Innings\") + xlab(\"Balls\") + ylab(\"Runs\")+\n",
    "    ggtitle(\"Innings Progression in Different innings\")"
   ]
  },
  {
   "cell_type": "code",
   "execution_count": null,
   "metadata": {
    "_cell_guid": "91776e62-671e-56e4-037c-259035161fca",
    "_execution_state": "idle",
    "_uuid": "9f458a06b618723699289c6371e80ed55b42edd9",
    "trusted": true,
    "vscode": {
     "languageId": "r"
    }
   },
   "outputs": [],
   "source": [
    " deliveries %>%filter(batsman==\"V Kohli\"| batsman==\"SK Raina\" |batsman==\"RG Sharma\"|batsman==\"G Gambhir\") %>% group_by(match_id) %>%\n",
    "    mutate(cum_run= cumsum(batsman_runs),cum_ball=1:length(match_id)) %>%\n",
    "    filter(player_dismissed==\"V Kohli\"|player_dismissed==\"SK Raina\" |player_dismissed==\"RG Sharma\"|player_dismissed==\"G Gambhir\") %>% \n",
    "    ggplot(aes(cum_ball,cum_run,col=batsman)) +geom_point() + xlab(\"Balls\") +ylab(\"Runs\")+ ggtitle(\"Runs scored vs balls faced in all the matches\")\n",
    "  \n",
    "  "
   ]
  },
  {
   "cell_type": "code",
   "execution_count": null,
   "metadata": {
    "_cell_guid": "14feaff6-339d-4ad2-a428-5ec6c14cca31",
    "_execution_state": "idle",
    "_uuid": "7d5d838137376d868cc22e88a417fdef39c47734",
    "trusted": true,
    "vscode": {
     "languageId": "r"
    }
   },
   "outputs": [],
   "source": [
    "deliveries %>% \n",
    "    group_by(bowler) %>% filter(length(ball) > 500) %>% \n",
    "    summarise(Economy= mean(total_runs)*6, Wickets = length(which(player_dismissed!=\"\")) ) %>% \n",
    "    ggplot(aes(Wickets,Economy,label=bowler,alpha= Wickets/Economy)) +geom_text(color=\"black\") + theme_minimal(base_family = \"Ubuntu Condensed\")+\n",
    "    theme(legend.position = \"none\",\n",
    "          panel.grid.major.x = element_blank(),\n",
    "          panel.grid.minor.x = element_blank(),\n",
    "          panel.grid.minor.y = element_blank(),\n",
    "          panel.grid.major.y = element_blank(),\n",
    "          plot.background = element_rect(fill = \"#EFF2F4\"),\n",
    "          axis.text = element_text(size = 15),\n",
    "          plot.title = element_text(size=16)) +\n",
    "    ggtitle(\"Economy  vs Wickets!\",subtitle = \"Min balls bowled : 500\") + \n",
    "    coord_cartesian(xlim = c(25, 200)) \n",
    "          \n",
    "          \n",
    "  \n",
    "  \n",
    "  "
   ]
  },
  {
   "cell_type": "markdown",
   "metadata": {},
   "source": [
    "\n",
    "# Notebook Ownership and Copyright\n",
    "\n",
    "This Jupyter Notebook is owned and maintained by **Rambabu Kumar**.\n",
    "\n",
    "---\n",
    "\n",
    "<div style=\"text-align: center; font-size: 1.2em; margin-top: 20px;\">\n",
    "  This Project is made with ❤️ by Rambabu Kumar\n",
    "</div>\n",
    "\n",
    "---\n",
    "\n",
    "**Copyright © 2025 Rambabu Kumar. All rights reserved.**\n",
    "\n",
    "This notebook and its contents are protected by copyright law. Unauthorized reproduction, distribution, or modification of this work, in whole or in part, is strictly prohibited.\n",
    "\"\"\"\n",
    "\n"
   ]
  }
 ],
 "metadata": {
  "_change_revision": 0,
  "_is_fork": false,
  "kaggle": {
   "accelerator": "none",
   "dataSources": [
    {
     "datasetId": 323,
     "sourceId": 7768,
     "sourceType": "datasetVersion"
    }
   ],
   "dockerImageVersionId": 34,
   "isGpuEnabled": false,
   "isInternetEnabled": false,
   "language": "r",
   "sourceType": "notebook"
  },
  "kernelspec": {
   "display_name": "R",
   "language": "R",
   "name": "ir"
  },
  "language_info": {
   "codemirror_mode": "r",
   "file_extension": ".r",
   "mimetype": "text/x-r-source",
   "name": "R",
   "pygments_lexer": "r",
   "version": "3.4.2"
  }
 },
 "nbformat": 4,
 "nbformat_minor": 4
}
